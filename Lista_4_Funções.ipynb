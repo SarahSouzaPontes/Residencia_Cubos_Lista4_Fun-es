{
  "cells": [
    {
      "cell_type": "markdown",
      "metadata": {
        "id": "view-in-github",
        "colab_type": "text"
      },
      "source": [
        "<a href=\"https://colab.research.google.com/github/SarahSouzaPontes/Residencia_Cubos_Lista4_Fun-es/blob/main/Lista_4_Fun%C3%A7%C3%B5es.ipynb\" target=\"_parent\"><img src=\"https://colab.research.google.com/assets/colab-badge.svg\" alt=\"Open In Colab\"/></a>"
      ]
    },
    {
      "cell_type": "markdown",
      "metadata": {
        "id": "6PtBSbiNtXls"
      },
      "source": [
        "# Exercícios de Aula - Funções"
      ]
    },
    {
      "cell_type": "markdown",
      "metadata": {
        "id": "YSOA4hbIVohf"
      },
      "source": [
        "## Exercício 1\n",
        "Escreva uma função que recebe a temperatura em Fahrenheit $(f)$ e retorna a temperatura correspondente em Celsius $(C)$ usando a fórmula a seguir:\n",
        "\n",
        "$C = (f-32) * (\\frac{5}{9})$"
      ]
    },
    {
      "cell_type": "code",
      "execution_count": 1,
      "metadata": {
        "colab": {
          "base_uri": "https://localhost:8080/"
        },
        "id": "PZARrmSztMzm",
        "outputId": "f9eaa424-f6de-4d84-c663-dcd31729956e"
      },
      "outputs": [
        {
          "output_type": "stream",
          "name": "stdout",
          "text": [
            "Qual temperatura em celsius?10\n",
            "10.0 graus Celcius é igual à 50.0 graus Fahrenheit.\n"
          ]
        }
      ],
      "source": [
        "# Resolução: \n",
        "\n",
        "def main():\n",
        "  # vamos pedir para o usuário informar a temperatura em\n",
        "  # Celsius\n",
        "  celsius = float(input(\"Qual temperatura em celsius?\"))\n",
        "   \n",
        "  # vamos converter os graus Celsius para graus\n",
        "  # Fahrenheit\n",
        "  fahrenheit = ((celsius * 9) / 5.0) + 32\n",
        "   \n",
        "  # e agora mostramos o resultado\n",
        "  return print(f\"{celsius} graus Celcius é igual à {fahrenheit} graus Fahrenheit.\")\n",
        "\n",
        "main()"
      ]
    },
    {
      "cell_type": "markdown",
      "metadata": {
        "id": "Kz9q6yLttda2"
      },
      "source": [
        "## Exercício 2\n",
        "Crie uma função que calcule a média dos elementos de uma lista para as seguintes listas:\n",
        "* `[3,4,5,8,7,10,2,5,8,9,10]`\n",
        "* `[3,4,5,8,7,10,2,5,8,9,10,800]`\n",
        "\n",
        "**Lembre- se:**\n",
        "A média é calculada da seguinte maneira:\n",
        "\n",
        "> $\\bar{x} = \\frac{x_1 + x_2 + ... + x_n}{n}$, onde\n",
        "\n",
        "$n =$ número de elementos\n"
      ]
    },
    {
      "cell_type": "code",
      "execution_count": 2,
      "metadata": {
        "colab": {
          "base_uri": "https://localhost:8080/"
        },
        "id": "8yIceG8fwtBm",
        "outputId": "aeec74fd-b445-4cd6-db4c-6e0b9ff370eb"
      },
      "outputs": [
        {
          "output_type": "stream",
          "name": "stdout",
          "text": [
            "0.2727272727272727\n",
            "0.6363636363636364\n",
            "1.0909090909090908\n",
            "1.8181818181818181\n",
            "2.4545454545454546\n",
            "3.3636363636363638\n",
            "3.5454545454545454\n",
            "4.0\n",
            "4.7272727272727275\n",
            "5.545454545454546\n",
            "6.454545454545454\n"
          ]
        }
      ],
      "source": [
        "# Resolução: \n",
        "nota1 = [3,4,5,8,7,10,2,5,8,9,10]\n",
        "nota2 = [3,4,5,8,7,10,2,5,8,9,10,800]\n",
        "\n",
        "def mediaNotas(lista):\n",
        "\n",
        "    soma = 0 \n",
        "    for valor in lista:\n",
        "      soma += valor\n",
        "      media = soma /len(lista)\n",
        "      print(media)\n",
        "mediaNotas(nota1)"
      ]
    },
    {
      "cell_type": "markdown",
      "metadata": {
        "id": "4rmK8IA0wd2_"
      },
      "source": [
        "## Exercício 3\n",
        "Crie uma função que retorne o menor dos elementos de uma lista para as seguintes listas:\n",
        "* `[3,4,5,8,7,10,2,5,8,9,10]`\n",
        "* `[3,4,5,8,7,10,2,5,8,9,10,800]`"
      ]
    },
    {
      "cell_type": "code",
      "execution_count": 3,
      "metadata": {
        "colab": {
          "base_uri": "https://localhost:8080/"
        },
        "id": "TAOiV2pYV25F",
        "outputId": "a1e3534f-a35b-4fa6-95ab-b83476a1f869"
      },
      "outputs": [
        {
          "output_type": "execute_result",
          "data": {
            "text/plain": [
              "0"
            ]
          },
          "metadata": {},
          "execution_count": 3
        }
      ],
      "source": [
        "# Resolução: \n",
        "lista1= [3,4,5,8,7,10,2,5,8,9,10]\n",
        "lista2= [3,4,5,8,7,10,2,5,8,9,10,800,0]\n",
        "\n",
        "\n",
        "def menor(lista):\n",
        "    min = lista[0]\n",
        "    for valor in lista:\n",
        "      if valor < min:\n",
        "        min = valor\n",
        "    return min\n",
        "\n",
        "menor(lista2)"
      ]
    },
    {
      "cell_type": "markdown",
      "metadata": {
        "id": "OYDjQFxcWMGo"
      },
      "source": [
        "## Exercício 4\n",
        "Escreva uma função que recebe um número inteiro positivo e:\n",
        "\n",
        "\n",
        "1.   Teste se ele é de fato inteiro e positivo\n",
        "\n",
        "> Se não, retorna uma mensagem de erro\n",
        "\n",
        "2.   Retorne em uma lista todos os seus divisores\n",
        "\n"
      ]
    },
    {
      "cell_type": "code",
      "execution_count": 4,
      "metadata": {
        "colab": {
          "base_uri": "https://localhost:8080/",
          "height": 53
        },
        "id": "VJRs-TROWiDR",
        "outputId": "86b1d087-7a2d-4a06-88d1-99927b9f5da2"
      },
      "outputs": [
        {
          "name": "stdout",
          "output_type": "stream",
          "text": [
            "Digite um número5\n"
          ]
        },
        {
          "output_type": "execute_result",
          "data": {
            "text/plain": [
              "'O valor\"5\"é um número inteiro positivo'"
            ],
            "application/vnd.google.colaboratory.intrinsic+json": {
              "type": "string"
            }
          },
          "metadata": {},
          "execution_count": 4
        }
      ],
      "source": [
        "# Resolução: \n",
        "\n",
        "numero = input('Digite um número')\n",
        "def validaNum(valor):\n",
        "  try:\n",
        "    numInt = int(valor)\n",
        "    if numInt >= 0:\n",
        "      return(f'O valor\"{numInt}\"é um número inteiro positivo')\n",
        "    else:\n",
        "      return(f'O valor\"{numInt}\"é um número inteiro negativo')\n",
        "  except:\n",
        "    return(f'O valor\"{valor}\"não é número inteiro ou positivo')\n",
        "validaNum(numero)"
      ]
    },
    {
      "cell_type": "code",
      "source": [
        "def funcao_1(num):\n",
        "  inteiro = int(num)\n",
        "  cond1 = (inteiro == num)\n",
        "  #testando se é positivo \n",
        "  cond2 = (num >0)\n",
        "  \n",
        "  return (cond1 & cond2)\n",
        "\n",
        "#funcao_1(30)\n",
        "\n",
        "#funcao_1(3.1)\n",
        "\n",
        "#funcao_1(-5)\n",
        "\n",
        "def funcao_2(num):\n",
        "  divisores = []\n",
        "  indicador = 1\n",
        "  while indicador <= num:\n",
        "    if num%indicador == 0:\n",
        "      divisores.append(indicador)\n",
        "    indicador += 1\n",
        "  return(divisores)\n",
        "\n",
        "funcao_2(10)\n",
        "\n",
        "def funcao_final(num):\n",
        "  if funcao_1(num) == True:\n",
        "    divisores = funcao_2(num)\n",
        "    return(divisores)\n",
        "  else:\n",
        "    print( 'Seu número não é inteiro e positivo')\n",
        "\n",
        "funcao_final(10)"
      ],
      "metadata": {
        "colab": {
          "base_uri": "https://localhost:8080/"
        },
        "id": "90retFH9mc7R",
        "outputId": "03e15190-1732-41cd-80c3-d6ce8f922fba"
      },
      "execution_count": 12,
      "outputs": [
        {
          "output_type": "execute_result",
          "data": {
            "text/plain": [
              "[1, 2, 5, 10]"
            ]
          },
          "metadata": {},
          "execution_count": 12
        }
      ]
    },
    {
      "cell_type": "markdown",
      "metadata": {
        "id": "tYJ4KwfCWjDb"
      },
      "source": [
        "## Exercício 5\n",
        "Escreva uma função que recebe uma string e retorna **True** caso o texto esteja escrito em maiúsculo e **False** caso contrário"
      ]
    },
    {
      "cell_type": "code",
      "execution_count": 5,
      "metadata": {
        "colab": {
          "base_uri": "https://localhost:8080/"
        },
        "id": "Qrjfv8V9VmxE",
        "outputId": "061fb43e-2b2d-4dc5-9e84-4acb153313e8"
      },
      "outputs": [
        {
          "output_type": "stream",
          "name": "stdout",
          "text": [
            "True\n"
          ]
        }
      ],
      "source": [
        "# Resolução: \n",
        "texto = \"A\"\n",
        "def texto_identifica(texto):\n",
        "  if texto.upper() == texto:\n",
        "    print(\"True\")\n",
        "  else:\n",
        "    print(\"False\")\n",
        "texto_identifica(texto)"
      ]
    },
    {
      "cell_type": "code",
      "source": [
        "def maiusculo(texto):\n",
        "  tudo_maiusculo = texto.upper()\n",
        "  condicao = (tudo_maiusculo == texto)\n",
        "  return(condicao)\n",
        "maiusculo('SARAH')"
      ],
      "metadata": {
        "colab": {
          "base_uri": "https://localhost:8080/"
        },
        "id": "1SJxKcHjpDrC",
        "outputId": "3992ccef-9aff-4c2c-c307-195c2c3520c3"
      },
      "execution_count": 14,
      "outputs": [
        {
          "output_type": "execute_result",
          "data": {
            "text/plain": [
              "True"
            ]
          },
          "metadata": {},
          "execution_count": 14
        }
      ]
    },
    {
      "cell_type": "markdown",
      "metadata": {
        "id": "aXtk5kGhWsEt"
      },
      "source": [
        "## Exercício 6\n",
        "Escreva uma função que recebe um número inteiro positivo e retorna:\n",
        "\n",
        "*   o número de dígitos que ele possui\n",
        "*   seu primeiro dígito\n",
        "\n"
      ]
    },
    {
      "cell_type": "code",
      "execution_count": 15,
      "metadata": {
        "colab": {
          "base_uri": "https://localhost:8080/"
        },
        "id": "kFlRrNuMWqt4",
        "outputId": "1395c4b5-db8d-4ceb-ccc7-3ea91cdc9e65"
      },
      "outputs": [
        {
          "output_type": "execute_result",
          "data": {
            "text/plain": [
              "(3, '1')"
            ]
          },
          "metadata": {},
          "execution_count": 15
        }
      ],
      "source": [
        "# Resolução: \n",
        "\n",
        "def digitos(num):\n",
        "  texto = str(num)\n",
        "  num_digitos = len(texto)\n",
        "  primeiro_digito = texto[0]\n",
        "  return(num_digitos, primeiro_digito)\n",
        "\n",
        "digitos(100)"
      ]
    },
    {
      "cell_type": "markdown",
      "metadata": {
        "id": "ObnjHalDW9uA"
      },
      "source": [
        "## Exercício 7\n",
        "Escreva uma função que recebe um número inteiro positivo menor ou igual que 10 e retorne o número escrito por extenso."
      ]
    },
    {
      "cell_type": "code",
      "execution_count": null,
      "metadata": {
        "colab": {
          "base_uri": "https://localhost:8080/"
        },
        "id": "SncEGCmnW8-j",
        "outputId": "552af7d1-31c7-4702-abb7-6e205c316e9b"
      },
      "outputs": [
        {
          "output_type": "stream",
          "name": "stdout",
          "text": [
            "10\n"
          ]
        }
      ],
      "source": [
        "# Resolução: \n",
        "def NumPosInt(num):\n",
        "  if num > 0  and num <= 10:\n",
        "    print(num)\n",
        "\n",
        "NumPosInt(10)"
      ]
    },
    {
      "cell_type": "code",
      "source": [
        "def extenso(num):\n",
        "  texto = str(num)\n",
        "  numeros = [ '0', '1', '2', '3', '4', '5', '6', '7', '8', '9']\n",
        "  num_extenso = [ 'zero', 'um', 'dois', 'três', 'quatro', 'cinco', 'seis', 'sete', 'oito', 'nove']\n",
        "  if len(texto) == 2:\n",
        "    return(\"dez\")\n",
        "  else:\n",
        "    indice = numero.index(texto)\n",
        "    return(num_extenso[indice])\n",
        "\n",
        "extenso(10)\n"
      ],
      "metadata": {
        "colab": {
          "base_uri": "https://localhost:8080/",
          "height": 35
        },
        "id": "PvqlLuDdqeMN",
        "outputId": "9c8b801d-fb91-4885-80ab-bc8871bb4e25"
      },
      "execution_count": 16,
      "outputs": [
        {
          "output_type": "execute_result",
          "data": {
            "text/plain": [
              "'dez'"
            ],
            "application/vnd.google.colaboratory.intrinsic+json": {
              "type": "string"
            }
          },
          "metadata": {},
          "execution_count": 16
        }
      ]
    },
    {
      "cell_type": "code",
      "source": [
        "#Menor que 0\n",
        "\n",
        "def NumNeg(num):\n",
        "  if num < 0:\n",
        "    print(num)\n",
        "\n",
        "NumNeg(-2)"
      ],
      "metadata": {
        "colab": {
          "base_uri": "https://localhost:8080/"
        },
        "id": "BFhfpvUdSi5B",
        "outputId": "b25e209c-a0ac-46e1-ae3c-640733d3d668"
      },
      "execution_count": null,
      "outputs": [
        {
          "output_type": "stream",
          "name": "stdout",
          "text": [
            "-2\n"
          ]
        }
      ]
    },
    {
      "cell_type": "code",
      "source": [
        "#Verificar números\n",
        "def compararNum (num1, num2):\n",
        "  if num1 > num2:\n",
        "    print(f'Numéro {num1} maior que número {num2}')\n",
        "  elif num2 > num1:\n",
        "    print(f'Numéro {num2} maior que número {num1}')\n",
        "  else:\n",
        "    print(f'São iguais')\n",
        "compararNum(5,4)"
      ],
      "metadata": {
        "colab": {
          "base_uri": "https://localhost:8080/"
        },
        "id": "zlZxQnjmS-t4",
        "outputId": "81831d61-cf80-4023-9c4f-45b3d7569d5b"
      },
      "execution_count": null,
      "outputs": [
        {
          "output_type": "stream",
          "name": "stdout",
          "text": [
            "Numéro 5 maior que número 4\n"
          ]
        }
      ]
    },
    {
      "cell_type": "code",
      "source": [
        "#Comparar números e retornar o número maior\n",
        "\n",
        "def maiorNum (num1, num2):\n",
        "  if num1 > num2:\n",
        "    return num1\n",
        "  else:\n",
        "    return num2\n",
        "    \n",
        "maiorNum(3,4)\n",
        "\n",
        "x = maiorNum(3,4)\n",
        "print(x)\n",
        "\n",
        "z = 0\n",
        "w= 3\n",
        "\n",
        "maior = maiorNum(z,w)\n",
        "print(maior)"
      ],
      "metadata": {
        "colab": {
          "base_uri": "https://localhost:8080/"
        },
        "id": "VWai8lm1UBfH",
        "outputId": "e3d6830c-8a7d-41b7-a496-3cebb08096ef"
      },
      "execution_count": null,
      "outputs": [
        {
          "output_type": "stream",
          "name": "stdout",
          "text": [
            "4\n",
            "3\n"
          ]
        }
      ]
    },
    {
      "cell_type": "markdown",
      "metadata": {
        "id": "XF5etYuRwwN-"
      },
      "source": [
        "## Exercício 8\n",
        "Crie uma função que ordena em ordem crescente os valores de uma lista e retorna uma lista com o valor mínimo e máximo, para as seguintes listas:\n",
        "* `[3,4,5,8,7,10,2,5,8,9,10]`\n",
        "* `[3,4,5,8,7,10,2,5,8,9,10,800]`\n"
      ]
    },
    {
      "cell_type": "code",
      "execution_count": null,
      "metadata": {
        "id": "1YQraKfYfYah"
      },
      "outputs": [],
      "source": [
        "# Resolução: \n",
        "\n",
        "lista1 = [3,4,5,8,7,10,2,5,8,9,10]\n",
        "\n",
        "\n",
        "def retornaLista(lista):\n",
        "  lista1.sort()\n",
        "  return\n",
        "  lista1[0] and len(lista1)\n",
        "\n",
        "\n",
        "retornaLista(lista1)"
      ]
    },
    {
      "cell_type": "code",
      "source": [
        "lista2 = [3,4,5,8,7,10,2,5,8,9,10,800]\n",
        "\n",
        "def retornaLista(lista):\n",
        "  lista2.sort()\n",
        "  return\n",
        "  lista2[0] and len(lista2)\n",
        "\n",
        "\n",
        "retornaLista(lista2)"
      ],
      "metadata": {
        "id": "A8-7EeqC0gvM"
      },
      "execution_count": null,
      "outputs": []
    },
    {
      "cell_type": "code",
      "source": [
        "def ordena(lista):\n",
        "  lista.sort()\n",
        "  print(lista)\n",
        "  print(min(lista), max(lista))\n",
        "\n",
        "ordena ([3,4,5,8,7,10,2,5,8,9,10])\n"
      ],
      "metadata": {
        "colab": {
          "base_uri": "https://localhost:8080/"
        },
        "id": "eQOF1Sc4su72",
        "outputId": "fd01626d-3274-4e4c-c6fe-9a35d3e372c5"
      },
      "execution_count": 17,
      "outputs": [
        {
          "output_type": "stream",
          "name": "stdout",
          "text": [
            "[2, 3, 4, 5, 5, 7, 8, 8, 9, 10, 10]\n",
            "2 10\n"
          ]
        }
      ]
    },
    {
      "cell_type": "code",
      "source": [
        "ordena ([3,4,5,8,7,10,2,5,8,9,10,800])\n"
      ],
      "metadata": {
        "colab": {
          "base_uri": "https://localhost:8080/"
        },
        "id": "CFwMqqw9tRq0",
        "outputId": "0609ac52-e0b7-4880-d76a-e7c4fccad739"
      },
      "execution_count": 18,
      "outputs": [
        {
          "output_type": "stream",
          "name": "stdout",
          "text": [
            "[2, 3, 4, 5, 5, 7, 8, 8, 9, 10, 10, 800]\n",
            "2 800\n"
          ]
        }
      ]
    }
  ],
  "metadata": {
    "colab": {
      "provenance": [],
      "include_colab_link": true
    },
    "kernelspec": {
      "display_name": "Python 3",
      "name": "python3"
    },
    "language_info": {
      "name": "python"
    }
  },
  "nbformat": 4,
  "nbformat_minor": 0
}